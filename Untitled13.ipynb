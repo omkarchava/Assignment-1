{
 "cells": [
  {
   "cell_type": "markdown",
   "metadata": {},
   "source": [
    "Q1. What are the characteristics of the tuples? Is tuple immutable?\n",
    "1-Tuples are immutables.\n",
    "2-Tuples are Ordered\n",
    "3-Tuples allows duplicates.\n",
    "\n",
    "Tuple is immutable we can't change the values inside tuple so it can used where we don't want to change the value or memory.\n"
   ]
  },
  {
   "cell_type": "markdown",
   "metadata": {},
   "source": [
    "Q2. What are the two tuple methods in python? Give an example of each method. Give a reason why\n",
    "tuples have only two in-built methods as compared to Lists.\n",
    "\n",
    "Answer:-\n",
    "2 tuple methods are count and index.\n",
    "1)count:-\n",
    "count is used to count number of elements with perticular value.\n",
    "Example:-\n",
    "Tuple1 = (0, 1, 2, 3, 2, 3, 1, 3, 2)\n",
    "print(Tuple1.count(3))\n",
    "We can change the count(value) and get the result.\n",
    "with\n",
    "2)Index:-\n",
    "In-order to find perticular index of the element we can use Index method.\n",
    "Example:-\n",
    "Tuple1 = (0, 1, 2, 3, 2, 3, 1, 3, 2)\n",
    "print(Tuple1.index(1))\n",
    "\n",
    "Reason Behind only 2 methods is that Tuple is immutable we can perform update,delete operations on tuple."
   ]
  },
  {
   "cell_type": "code",
   "execution_count": 30,
   "metadata": {},
   "outputs": [
    {
     "name": "stdout",
     "output_type": "stream",
     "text": [
      "{1, 2, 3, 4}\n"
     ]
    }
   ],
   "source": [
    "#Q3. Which collection datatypes in python do not allow duplicate items? Write a code using a set to remove duplicates from the given list.\n",
    "#List = [1, 1, 1, 2, 1, 3, 1, 4, 2, 1, 2, 2, 2, 3, 2, 4, 3, 1, 3, 2, 3, 3, 3, 4, 4, 1, 4, 2, 4, 3, 4, 4]\n",
    "\n",
    "#Set is the data type that don't allow any types of duplicates\n",
    "List = [1, 1, 1, 2, 1, 3, 1, 4, 2, 1, 2, 2, 2, 3, 2, 4, 3, 1, 3, 2, 3, 3, 3, 4, 4, 1, 4, 2, 4, 3, 4, 4]\n",
    "Set1=set(List)\n",
    "print(Set1)"
   ]
  },
  {
   "cell_type": "code",
   "execution_count": 31,
   "metadata": {},
   "outputs": [
    {
     "name": "stdout",
     "output_type": "stream",
     "text": [
      "{1, 2, 3, 4, 5}\n",
      "{1, 2, 3, 4, 5, 6}\n"
     ]
    }
   ],
   "source": [
    "#Q4. Explain the difference between the union() and update() methods for a set. Give an example of each method.\n",
    "\n",
    "#1)Union():-\n",
    "#The union() method returns a set that contains all items from the original set, and all items from the specified set(s).\n",
    "set1={1,2,3}\n",
    "set2={3,4,5}\n",
    "print(set1.union(set2))\n",
    "\n",
    "#2)Update():-\n",
    "#The update() method updates the current set, by adding items from another set (or any other iterable).\n",
    "set1={1,2,3}\n",
    "set2={3,4,5,6}\n",
    "set2.update(set1)\n",
    "print(set2)"
   ]
  },
  {
   "cell_type": "markdown",
   "metadata": {},
   "source": [
    "Q5. What is a dictionary? Give an example. Also, state whether a dictionary is ordered or unordered.\n",
    "Answer:-\n",
    "Dictionary is collection of key and value pairs.\n",
    "Dic={\"Name\":\"Omkar\",\"Surname\":\"Chavan\",\"pincode\":\"41xx24\"}\n",
    "\n",
    "As per version of python 3.7 Dictionary is ordered but for earlier versions it's not ordered."
   ]
  },
  {
   "cell_type": "markdown",
   "metadata": {},
   "source": [
    "Q6. Can we create a nested dictionary? If so, please give an example by creating a simple one-level\n",
    "nested dictionary.\n",
    "Answer:-\n",
    "Yes we can create Nested Dictionary.\n",
    "Example:-\n",
    "Dict={\"Details\":{\"Name\":\"Omkar\",\"Surname\":\"Chavan\",\"pincode\":\"41xx24\"}}"
   ]
  },
  {
   "cell_type": "code",
   "execution_count": 32,
   "metadata": {},
   "outputs": [
    {
     "name": "stdout",
     "output_type": "stream",
     "text": [
      "{'language': 'Python', 'course': 'Data Science Masters', 'Topics': ['Python', 'Machine Learning', 'Deep Learning']}\n"
     ]
    }
   ],
   "source": [
    "#Q7. Using setdefault() method, create key named topics in the given dictionary and also add the value of\n",
    "#the key as this list ['Python', 'Machine Learning’, 'Deep Learning']\n",
    "\n",
    "#Answer:-\n",
    "#The setdefault() method returns the value of the item with the specified key.\n",
    "#If the key does not exist, insert the key, with the specified value, see example below\n",
    "\n",
    "dict1 = {'language' : 'Python', 'course': 'Data Science Masters'}\n",
    "x=dict1.setdefault(\"Topics\",['Python', 'Machine Learning', 'Deep Learning'])\n",
    "print(dict1)"
   ]
  },
  {
   "cell_type": "code",
   "execution_count": 33,
   "metadata": {},
   "outputs": [
    {
     "name": "stdout",
     "output_type": "stream",
     "text": [
      "dict_keys(['Sport', 'Teams'])\n",
      "Cricket\n",
      "['India', 'Australia', 'England', 'South Africa', 'Sri Lanka', 'New Zealand']\n",
      "dict_items([('Sport', 'Cricket'), ('Teams', ['India', 'Australia', 'England', 'South Africa', 'Sri Lanka', 'New Zealand'])])\n"
     ]
    }
   ],
   "source": [
    "#Q8. What are the three view objects in dictionaries? Use the three in-built methods in python to display\n",
    "#these three view objects for the given dictionary.\n",
    "#dict1 = {'Sport': 'Cricket' , 'Teams': ['India', 'Australia', 'England', 'South Africa', 'Sri Lanka', 'New Zealand']}\n",
    "\n",
    "dict1 = {'Sport': 'Cricket' , 'Teams': ['India', 'Australia', 'England', 'South Africa', 'Sri Lanka', 'New Zealand']}\n",
    "#keys() method is used to find the keys within dictionary.\n",
    "print(dict1.keys())\n",
    "#values() method is used to find values of dictionary or perticular value of a key\n",
    "\n",
    "print(dict1['Sport'])\n",
    "print(dict1['Teams'])\n",
    "\n",
    "#items() method is used to return the list with all dictionary keys with values\n",
    "\n",
    "print(dict1.items())"
   ]
  }
 ],
 "metadata": {
  "kernelspec": {
   "display_name": "Python 3",
   "language": "python",
   "name": "python3"
  },
  "language_info": {
   "codemirror_mode": {
    "name": "ipython",
    "version": 3
   },
   "file_extension": ".py",
   "mimetype": "text/x-python",
   "name": "python",
   "nbconvert_exporter": "python",
   "pygments_lexer": "ipython3",
   "version": "3.8.5"
  }
 },
 "nbformat": 4,
 "nbformat_minor": 4
}
